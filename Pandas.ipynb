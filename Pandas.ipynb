{
 "cells": [
  {
   "cell_type": "code",
   "execution_count": 3,
   "metadata": {},
   "outputs": [
    {
     "name": "stdout",
     "output_type": "stream",
     "text": [
      "   Colonn1  Colonne2 Colonne3\n",
      "a      1.1         2      oui\n",
      "b      2.7        10      non\n",
      "c      5.3         9      non\n"
     ]
    }
   ],
   "source": [
    "# import de la librairi pandas avec l'allias pd\n",
    "import pandas as pd\n",
    "\n",
    "# création d'un DataFrame\n",
    "df = pd.DataFrame({'Colonn1': [1.1, 2.7, 5.3], 'Colonne2': [2, 10, 9], 'Colonne3': ['oui', 'non', 'non']}, index = ['a', 'b', 'c'])\n",
    "\n",
    "print(df)"
   ]
  },
  {
   "cell_type": "code",
   "execution_count": 21,
   "metadata": {},
   "outputs": [],
   "source": [
    "import pandas as pd\n",
    "\n",
    "# import de données depuis un fichier Excel d'un DataFrame\n",
    "nom_colonnes = ['consomation', 'cylindres', 'deplacement', 'puissance', 'poids', 'acceleration', 'annee', 'origine', 'nom']\n",
    "\n",
    "# Afficher les premières lignes du DataFrame\n",
    "data = pd.read_excel('/home/simplon/projet/autompg.xlsx', index_col=None, header=None, skiprows=1, names=nom_colonnes)"
   ]
  },
  {
   "cell_type": "code",
   "execution_count": 25,
   "metadata": {
    "scrolled": true
   },
   "outputs": [
    {
     "name": "stdout",
     "output_type": "stream",
     "text": [
      "   consomation  cylindres  deplacement  puissance  poids  acceleration  annee  \\\n",
      "0         18.0          8        307.0      130.0   3504          12.0     70   \n",
      "1         15.0          8        350.0      165.0   3693          11.5     70   \n",
      "2         18.0          8        318.0      150.0   3436          11.0     70   \n",
      "3         16.0          8        304.0      150.0   3433          12.0     70   \n",
      "4         17.0          8        302.0      140.0   3449          10.5     70   \n",
      "\n",
      "   origine                        nom  \n",
      "0        1  chevrolet chevelle malibu  \n",
      "1        1          buick skylark 320  \n",
      "2        1         plymouth satellite  \n",
      "3        1              amc rebel sst  \n",
      "4        1                ford torino  \n"
     ]
    }
   ],
   "source": [
    "print(data.head())"
   ]
  },
  {
   "cell_type": "code",
   "execution_count": 23,
   "metadata": {},
   "outputs": [
    {
     "name": "stdout",
     "output_type": "stream",
     "text": [
      "(398, 9)\n",
      "398\n",
      "9\n"
     ]
    }
   ],
   "source": [
    "# Afficher les dimensions du dataframe\n",
    "\n",
    "print(data.shape)\n",
    "print(data.shape[0]) #pour ligne\n",
    "print(data.shape[1]) #pour colonnes"
   ]
  },
  {
   "cell_type": "code",
   "execution_count": 26,
   "metadata": {},
   "outputs": [
    {
     "name": "stdout",
     "output_type": "stream",
     "text": [
      "<class 'pandas.core.frame.DataFrame'>\n",
      "RangeIndex: 398 entries, 0 to 397\n",
      "Data columns (total 9 columns):\n",
      " #   Column        Non-Null Count  Dtype  \n",
      "---  ------        --------------  -----  \n",
      " 0   consomation   398 non-null    float64\n",
      " 1   cylindres     398 non-null    int64  \n",
      " 2   deplacement   398 non-null    float64\n",
      " 3   puissance     392 non-null    float64\n",
      " 4   poids         398 non-null    int64  \n",
      " 5   acceleration  398 non-null    float64\n",
      " 6   annee         398 non-null    int64  \n",
      " 7   origine       398 non-null    int64  \n",
      " 8   nom           398 non-null    object \n",
      "dtypes: float64(4), int64(4), object(1)\n",
      "memory usage: 28.1+ KB\n",
      "None\n"
     ]
    }
   ],
   "source": [
    "#info sur les donées\n",
    "\n",
    "print(data.info())\n"
   ]
  },
  {
   "cell_type": "code",
   "execution_count": 27,
   "metadata": {},
   "outputs": [
    {
     "name": "stdout",
     "output_type": "stream",
     "text": [
      "       consomation   cylindres  deplacement   puissance        poids  \\\n",
      "count   398.000000  398.000000   398.000000  392.000000   398.000000   \n",
      "mean     23.514573    5.454774   193.425879  104.469388  2970.424623   \n",
      "std       7.815984    1.701004   104.269838   38.491160   846.841774   \n",
      "min       9.000000    3.000000    68.000000   46.000000  1613.000000   \n",
      "25%      17.500000    4.000000   104.250000   75.000000  2223.750000   \n",
      "50%      23.000000    4.000000   148.500000   93.500000  2803.500000   \n",
      "75%      29.000000    8.000000   262.000000  126.000000  3608.000000   \n",
      "max      46.600000    8.000000   455.000000  230.000000  5140.000000   \n",
      "\n",
      "       acceleration       annee     origine  \n",
      "count    398.000000  398.000000  398.000000  \n",
      "mean      15.568090   76.010050    1.572864  \n",
      "std        2.757689    3.697627    0.802055  \n",
      "min        8.000000   70.000000    1.000000  \n",
      "25%       13.825000   73.000000    1.000000  \n",
      "50%       15.500000   76.000000    1.000000  \n",
      "75%       17.175000   79.000000    2.000000  \n",
      "max       24.800000   82.000000    3.000000  \n"
     ]
    }
   ],
   "source": [
    "# description des données\n",
    "print(data.describe())"
   ]
  },
  {
   "cell_type": "code",
   "execution_count": 28,
   "metadata": {},
   "outputs": [
    {
     "name": "stdout",
     "output_type": "stream",
     "text": [
      "annee      70  71  72  73  74  75  76  77  78  79  80  81  82\n",
      "cylindres                                                    \n",
      "3           0   0   1   1   0   0   0   1   0   0   1   0   0\n",
      "4           7  13  14  11  15  12  15  14  17  12  25  21  28\n",
      "5           0   0   0   0   0   0   0   0   1   1   1   0   0\n",
      "6           4   8   0   8   7  12  10   5  12   6   2   7   3\n",
      "8          18   7  13  20   5   6   9   8   6  10   0   1   0\n"
     ]
    }
   ],
   "source": [
    "# Fréquences croisés\n",
    "print(pd.crosstab(data['cylindres'], data['annee']))"
   ]
  },
  {
   "cell_type": "code",
   "execution_count": 29,
   "metadata": {},
   "outputs": [
    {
     "name": "stdout",
     "output_type": "stream",
     "text": [
      "annee            70        71        72        73        74        75  \\\n",
      "cylindres                                                               \n",
      "3          0.000000  0.000000  0.250000  0.250000  0.000000  0.000000   \n",
      "4          0.034314  0.063725  0.068627  0.053922  0.073529  0.058824   \n",
      "5          0.000000  0.000000  0.000000  0.000000  0.000000  0.000000   \n",
      "6          0.047619  0.095238  0.000000  0.095238  0.083333  0.142857   \n",
      "8          0.174757  0.067961  0.126214  0.194175  0.048544  0.058252   \n",
      "\n",
      "annee            76        77        78        79        80        81  \\\n",
      "cylindres                                                               \n",
      "3          0.000000  0.250000  0.000000  0.000000  0.250000  0.000000   \n",
      "4          0.073529  0.068627  0.083333  0.058824  0.122549  0.102941   \n",
      "5          0.000000  0.000000  0.333333  0.333333  0.333333  0.000000   \n",
      "6          0.119048  0.059524  0.142857  0.071429  0.023810  0.083333   \n",
      "8          0.087379  0.077670  0.058252  0.097087  0.000000  0.009709   \n",
      "\n",
      "annee            82  \n",
      "cylindres            \n",
      "3          0.000000  \n",
      "4          0.137255  \n",
      "5          0.000000  \n",
      "6          0.035714  \n",
      "8          0.000000  \n"
     ]
    }
   ],
   "source": [
    "# Pourcentage croisés\n",
    "print(pd.crosstab(data['cylindres'], data['annee'], normalize='index'))"
   ]
  },
  {
   "cell_type": "code",
   "execution_count": 32,
   "metadata": {},
   "outputs": [
    {
     "name": "stdout",
     "output_type": "stream",
     "text": [
      "                         nom  consomation\n",
      "0  chevrolet chevelle malibu         18.0\n",
      "1          buick skylark 320         15.0\n",
      "2         plymouth satellite         18.0\n",
      "3              amc rebel sst         16.0\n",
      "4                ford torino         17.0\n"
     ]
    }
   ],
   "source": [
    "# Accès à une ou plusieurs colonne\n",
    "\n",
    "print(data[['nom', 'consomation']].head())"
   ]
  },
  {
   "cell_type": "code",
   "execution_count": 33,
   "metadata": {},
   "outputs": [
    {
     "name": "stdout",
     "output_type": "stream",
     "text": [
      "10      dodge challenger se\n",
      "11       plymouth 'cuda 340\n",
      "12    chevrolet monte carlo\n",
      "Name: nom, dtype: object\n"
     ]
    }
   ],
   "source": [
    "# Affiche les valeurs de 10 à 12\n",
    "\n",
    "print(data['nom'][10:13])"
   ]
  },
  {
   "cell_type": "code",
   "execution_count": 34,
   "metadata": {},
   "outputs": [
    {
     "name": "stdout",
     "output_type": "stream",
     "text": [
      "18.0\n",
      "31.0\n"
     ]
    }
   ],
   "source": [
    "# Accès à la première ligne, première colonne\n",
    "print(data.iloc[0, 0])\n",
    "# Accès à la première ligne, dernière colonne\n",
    "print(data.iloc[-1, 0])"
   ]
  },
  {
   "cell_type": "code",
   "execution_count": 35,
   "metadata": {},
   "outputs": [
    {
     "name": "stdout",
     "output_type": "stream",
     "text": [
      "   consomation  cylindres  deplacement  puissance  poids  acceleration  annee  \\\n",
      "0         18.0          8        307.0      130.0   3504          12.0     70   \n",
      "1         15.0          8        350.0      165.0   3693          11.5     70   \n",
      "2         18.0          8        318.0      150.0   3436          11.0     70   \n",
      "3         16.0          8        304.0      150.0   3433          12.0     70   \n",
      "4         17.0          8        302.0      140.0   3449          10.5     70   \n",
      "\n",
      "   origine                        nom  \n",
      "0        1  chevrolet chevelle malibu  \n",
      "1        1          buick skylark 320  \n",
      "2        1         plymouth satellite  \n",
      "3        1              amc rebel sst  \n",
      "4        1                ford torino  \n"
     ]
    }
   ],
   "source": [
    "# Toutes les colonnes avec les lignes de 0 à 4\n",
    "# : seul = toutes les signes\n",
    "# : entouré de nombres = à (de 0 à 5)\n",
    "print(data.iloc[0:5,:])"
   ]
  },
  {
   "cell_type": "code",
   "execution_count": 36,
   "metadata": {},
   "outputs": [
    {
     "name": "stdout",
     "output_type": "stream",
     "text": [
      "     consomation  cylindres  deplacement  puissance  poids  acceleration  \\\n",
      "309         41.5          4         98.0       76.0   2144          14.7   \n",
      "310         38.1          4         89.0       60.0   1968          18.8   \n",
      "311         32.1          4         98.0       70.0   2120          15.5   \n",
      "312         37.2          4         86.0       65.0   2019          16.4   \n",
      "313         28.0          4        151.0       90.0   2678          16.5   \n",
      "\n",
      "     annee  origine                    nom  \n",
      "309     80        2              vw rabbit  \n",
      "310     80        3  toyota corolla tercel  \n",
      "311     80        1     chevrolet chevette  \n",
      "312     80        3             datsun 310  \n",
      "313     80        1     chevrolet citation  \n"
     ]
    }
   ],
   "source": [
    "# Liste des voitures dont son de l'année 80\n",
    "# == c'est pour faire un filtre\n",
    "print(data.loc[data['annee']==80,:].head())"
   ]
  },
  {
   "cell_type": "code",
   "execution_count": 37,
   "metadata": {},
   "outputs": [
    {
     "data": {
      "text/plain": [
       "array([[<matplotlib.axes._subplots.AxesSubplot object at 0x7f30e7f1e090>]],\n",
       "      dtype=object)"
      ]
     },
     "execution_count": 37,
     "metadata": {},
     "output_type": "execute_result"
    },
    {
     "data": {
      "image/png": "[encoded data removed]",
      "text/plain": [
       "<Figure size 432x288 with 1 Axes>"
      ]
     },
     "metadata": {
      "needs_background": "light"
     },
     "output_type": "display_data"
    }
   ],
   "source": [
    "# Pour que les graphiques apparaissent dans le notebook\n",
    "%matplotlib inline\n",
    "# Importation de la librairie\n",
    "import matplotlib.pyplot as plt\n",
    "# Histogramme de la puissance \n",
    "data.hist(column='puissance')"
   ]
  },
  {
   "cell_type": "code",
   "execution_count": 38,
   "metadata": {},
   "outputs": [
    {
     "data": {
      "text/plain": [
       "<matplotlib.axes._subplots.AxesSubplot at 0x7f30e5c35810>"
      ]
     },
     "execution_count": 38,
     "metadata": {},
     "output_type": "execute_result"
    },
    {
     "data": {
      "image/png": "[encoded data removed]",
      "text/plain": [
       "<Figure size 432x288 with 2 Axes>"
      ]
     },
     "metadata": {
      "needs_background": "light"
     },
     "output_type": "display_data"
    }
   ],
   "source": [
    "# Nuage de point : conso de fonction de la puissance\n",
    "# Avec niveau de gris selon l'année\n",
    "data.plot.scatter(x='puissance', y='consomation', c='annee')"
   ]
  }
 ],
 "metadata": {
  "kernelspec": {
   "display_name": "Python 3",
   "language": "python",
   "name": "python3"
  },
  "language_info": {
   "codemirror_mode": {
    "name": "ipython",
    "version": 3
   },
   "file_extension": ".py",
   "mimetype": "text/x-python",
   "name": "python",
   "nbconvert_exporter": "python",
   "pygments_lexer": "ipython3",
   "version": "3.7.6"
  }
 },
 "nbformat": 4,
 "nbformat_minor": 4
}
